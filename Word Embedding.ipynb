{
 "cells": [
  {
   "cell_type": "markdown",
   "metadata": {},
   "source": [
    "# Word Embeddings "
   ]
  },
  {
   "cell_type": "markdown",
   "metadata": {},
   "source": [
    "In this assignment you will have to do the following activities:\n",
    "\n",
    "Load the vectors in an appropriate format (you can use float32 to reduce memory print).\n",
    "Write a function that takes as argument a word and returns the 20 most similar words by cosine similarity.\n",
    "Write a function that takes as arguments a list of words and returns the corresponding vectors in a numpy array. Then use the utility function below to plot the vectors. When testing your code try to use lists of words that contain groups of semantically close words"
   ]
  },
  {
   "cell_type": "code",
   "execution_count": 1,
   "metadata": {},
   "outputs": [],
   "source": [
    "import numpy as np\n",
    "from scipy import spatial\n",
    "import matplotlib.pyplot as plt\n",
    "from sklearn.manifold import TSNE\n",
    "import umap.umap_ as umap\n",
    "import matplotlib.pyplot as plt\n",
    "import seaborn as sns"
   ]
  },
  {
   "cell_type": "code",
   "execution_count": 2,
   "metadata": {},
   "outputs": [],
   "source": [
    "embeddingsdict = {}\n",
    "with open(\"glove.6B.50d.txt\", 'r', encoding=\"utf-8\") as f:\n",
    "    for line in f:\n",
    "        values = line.split()\n",
    "        word = values[0]\n",
    "        vector = np.asarray(values[1:], \"float32\")\n",
    "        embeddingsdict[word] = vector"
   ]
  },
  {
   "cell_type": "code",
   "execution_count": 5,
   "metadata": {},
   "outputs": [],
   "source": [
    "def find_closest_embeddings(embedding):\n",
    "    return sorted(embeddingsdict.keys(), key=lambda word: spatial.distance.cosine(embeddingsdict[word], embedding))"
   ]
  },
  {
   "cell_type": "markdown",
   "metadata": {},
   "source": [
    "Twenty Similar words to word 'the' are"
   ]
  },
  {
   "cell_type": "code",
   "execution_count": 6,
   "metadata": {},
   "outputs": [
    {
     "data": {
      "text/plain": [
       "['the',\n",
       " 'which',\n",
       " 'part',\n",
       " 'in',\n",
       " 'of',\n",
       " 'on',\n",
       " 'one',\n",
       " '.',\n",
       " 'as',\n",
       " 'this',\n",
       " 'its',\n",
       " 'same',\n",
       " 'first',\n",
       " 'entire',\n",
       " 'also',\n",
       " 'it',\n",
       " 'to',\n",
       " 'another',\n",
       " 'came',\n",
       " 'for']"
      ]
     },
     "execution_count": 6,
     "metadata": {},
     "output_type": "execute_result"
    }
   ],
   "source": [
    "similar_words = find_closest_embeddings(embeddingsdict[\"the\"])\n",
    "similar_words = similar_words[:20]\n",
    "similar_words"
   ]
  },
  {
   "cell_type": "code",
   "execution_count": 7,
   "metadata": {},
   "outputs": [],
   "source": [
    "def plot_word_embeddings(words,vectors,num_neighbors=2):\n",
    "    \"\"\"\n",
    "    Utility function to do a 2d plot of word-embeddings with annotations.\n",
    "    \n",
    "    param words: list of words\n",
    "    param vectors: array of word embeddings corresponding to the list of words\n",
    "    param num_neighbors: number of neighbors to consider in the UMAP projection\n",
    "    \"\"\"\n",
    "    # Project the 50d vectors to a 2d space\n",
    "    V_umap = umap.UMAP(n_neighbors=num_neighbors,min_dist=0.2).fit_transform(vectors)\n",
    "    \n",
    "    fig= plt.figure(figsize=(12,6))\n",
    "\n",
    "    plt.scatter(V_umap[:, 0], V_umap[:, 1])\n",
    "    for i, word in enumerate(words):\n",
    "        plt.annotate(word, xy=(V_umap[i, 0], V_umap[i, 1]))\n",
    "    plt.show()"
   ]
  },
  {
   "cell_type": "code",
   "execution_count": 8,
   "metadata": {},
   "outputs": [
    {
     "data": {
      "image/png": "[encoded data removed]",
      "text/plain": [
       "<Figure size 864x432 with 1 Axes>"
      ]
     },
     "metadata": {},
     "output_type": "display_data"
    }
   ],
   "source": [
    "from numpy.random import default_rng\n",
    "sns.set()\n",
    "# random embeddings just to test the function\n",
    "rng = default_rng()\n",
    "embeddings = rng.uniform(size=(len(similar_words),50))\n",
    "\n",
    "plot_word_embeddings(similar_words,embeddings)"
   ]
  },
  {
   "cell_type": "code",
   "execution_count": null,
   "metadata": {},
   "outputs": [],
   "source": []
  }
 ],
 "metadata": {
  "kernelspec": {
   "display_name": "Python 3",
   "language": "python",
   "name": "python3"
  },
  "language_info": {
   "codemirror_mode": {
    "name": "ipython",
    "version": 3
   },
   "file_extension": ".py",
   "mimetype": "text/x-python",
   "name": "python",
   "nbconvert_exporter": "python",
   "pygments_lexer": "ipython3",
   "version": "3.7.6"
  }
 },
 "nbformat": 4,
 "nbformat_minor": 4
}
